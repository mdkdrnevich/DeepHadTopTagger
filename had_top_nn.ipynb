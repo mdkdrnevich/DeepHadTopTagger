{
 "cells": [
  {
   "cell_type": "markdown",
   "metadata": {},
   "source": [
    "# Neural Network for Hadronic Top Reconstruction\n",
    "This file creates a feed-forward binary classification neural network for hadronic top reconstruction by classifying quark jet triplets as being from a top quark or not."
   ]
  },
  {
   "cell_type": "code",
   "execution_count": 1,
   "metadata": {},
   "outputs": [
    {
     "name": "stderr",
     "output_type": "stream",
     "text": [
      "/home/drnevich/miniconda3/envs/ROOT/lib/python2.7/site-packages/torchsample-0.1.3-py2.7.egg/torchsample/modules/_utils.py:8: UserWarning: inspect.signature not available... you should upgrade to Python 3.x\n"
     ]
    }
   ],
   "source": [
    "from __future__ import print_function, division\n",
    "import pandas as pd\n",
    "import numpy as np\n",
    "from sklearn import preprocessing\n",
    "import torch as th\n",
    "from torch.autograd import Variable\n",
    "import torch.nn as nn\n",
    "import torch.nn.functional as F\n",
    "import torch.optim as optim\n",
    "from torch.utils.data import Dataset, DataLoader\n",
    "import torchsample as tsamp\n",
    "from sklearn.metrics import f1_score, roc_auc_score"
   ]
  },
  {
   "cell_type": "code",
   "execution_count": 2,
   "metadata": {},
   "outputs": [],
   "source": [
    "def find_cut(model, dataset, n_steps=100, benchmark=\"f1\"):\n",
    "    X, y = Variable(dataset[:]['input']).float(), dataset[:]['target'].type(th.ByteTensor).view(-1, 1)\n",
    "    out = model(X).data\n",
    "    best_cut = 0\n",
    "    best_score = -1\n",
    "    for i in range(n_steps+1):\n",
    "        cut = i*((out.max() - out.min())/n_steps) + out.min()\n",
    "        if benchmark == \"f1\":\n",
    "            score = f1_score(y.numpy(), (out >= cut).type(th.ByteTensor).numpy())\n",
    "        elif benchmark == \"acc\":\n",
    "            score = ((out >= cut).type(th.ByteTensor) == y).sum()\n",
    "        if score > best_score:\n",
    "            best_score = score\n",
    "            best_cut = cut\n",
    "    return best_cut"
   ]
  },
  {
   "cell_type": "code",
   "execution_count": 3,
   "metadata": {},
   "outputs": [],
   "source": [
    "def score(model, dataset, cut=0.5):\n",
    "    X, y = Variable(dataset[:]['input']).float(), dataset[:]['target'].type(th.ByteTensor).view(-1, 1)\n",
    "    out = model(X).data\n",
    "    predicted = (out >= cut).type(th.ByteTensor)\n",
    "    return (predicted == y).sum()/out.size()[0]"
   ]
  },
  {
   "cell_type": "markdown",
   "metadata": {},
   "source": [
    "## Generate Datasets for Training and Testing"
   ]
  },
  {
   "cell_type": "code",
   "execution_count": 4,
   "metadata": {},
   "outputs": [],
   "source": [
    "class CollisionDataset(Dataset):\n",
    "    def __init__(self, datafile, header=None, scaler=None, target_col=0, index_col=None):\n",
    "        self.dataframe = pd.read_csv(datafile, header=header, index_col=index_col)\n",
    "        self._X = pd.concat([self.dataframe.iloc[:, :target_col], self.dataframe.iloc[:, target_col+1:]], axis=1)\n",
    "        self._y = self.dataframe.iloc[:, target_col]\n",
    "        self.scaler = preprocessing.StandardScaler().fit(self._X) if scaler is None else scaler\n",
    "    \n",
    "    def __len__(self):\n",
    "        return len(self.dataframe)\n",
    "    \n",
    "    def __getitem__(self, idx):\n",
    "        if type(idx) is int:\n",
    "            return {'input': th.from_numpy(self.scaler.transform(self._X.iloc[idx, :].as_matrix().reshape(1, -1)).flatten()),\n",
    "                    'target': self._y.iloc[idx]}\n",
    "        return {'input': th.from_numpy(self.scaler.transform(self._X.iloc[idx, :].as_matrix())),\n",
    "                'target': th.from_numpy(self._y.iloc[idx].as_matrix())}"
   ]
  },
  {
   "cell_type": "markdown",
   "metadata": {},
   "source": [
    "## Load the Datasets\n",
    "Here I load the datasets using my custom <code>Dataset</code> class. This ensures that the data is scaled properly and then the PyTorch <code>DataLoader</code> shuffles and iterates over the dataset in batches."
   ]
  },
  {
   "cell_type": "code",
   "execution_count": 5,
   "metadata": {},
   "outputs": [],
   "source": [
    "trainset = CollisionDataset(\"ttH_hadT_cut_train.csv\", header=0, target_col=0, index_col=0)\n",
    "valset = CollisionDataset(\"ttH_hadT_cut_val.csv\", header=0, target_col=0, index_col=0, scaler=trainset.scaler)\n",
    "testset = CollisionDataset(\"ttH_hadT_cut_test.csv\", header=0, target_col=0, index_col=0, scaler=trainset.scaler)\n",
    "\n",
    "train_X = Variable(trainset[:]['input']).float()\n",
    "train_y = trainset[:]['target'].long().view(-1, 1).numpy()\n",
    "\n",
    "val_X = Variable(valset[:]['input']).float()\n",
    "val_y = valset[:]['target'].long().view(-1, 1).numpy()\n",
    "\n",
    "trainloader = DataLoader(trainset, batch_size=512, shuffle=True, num_workers=5)\n",
    "testloader = DataLoader(testset, batch_size=512, shuffle=True, num_workers=5)"
   ]
  },
  {
   "cell_type": "markdown",
   "metadata": {},
   "source": [
    "## Initiate the Neural Network Structure\n",
    "This class defines the structure of the neural network."
   ]
  },
  {
   "cell_type": "code",
   "execution_count": 6,
   "metadata": {},
   "outputs": [],
   "source": [
    "# Basic Forward Prop ReLu \n",
    "class MultiNet(nn.Module):\n",
    "    def __init__(self):\n",
    "        super(MultiNet, self).__init__()\n",
    "        self.lin1 = nn.Linear(3, 7)\n",
    "        self.lin2 = nn.Linear(7, 3)\n",
    "\n",
    "    def forward(self, x):\n",
    "        x = F.relu(self.lin1(x))\n",
    "        x = F.softmax(self.lin2(x), dim=1)\n",
    "        return x\n",
    "    \n",
    "class BinaryNet(nn.Module):\n",
    "    def __init__(self, input_dim):\n",
    "        super(BinaryNet, self).__init__()\n",
    "        self.lin1 = nn.Linear(input_dim, (input_dim+1)//2)\n",
    "        self.lin2 = nn.Linear((input_dim+1)//2, 1)\n",
    "\n",
    "    def forward(self, x):\n",
    "        x = F.relu(self.lin1(x))\n",
    "        x = F.sigmoid(self.lin2(x))\n",
    "        return x\n",
    "    \n",
    "class DeepBinaryNet(nn.Module):\n",
    "    def __init__(self, input_dim):\n",
    "        super(DeepBinaryNet, self).__init__()\n",
    "        self.lin1 = nn.Linear(input_dim, input_dim*2)\n",
    "        self.lin2 = nn.Linear(input_dim*2, input_dim*5)\n",
    "        self.lin3 = nn.Linear(input_dim*5, input_dim*10)\n",
    "        self.lin4 = nn.Linear(input_dim*10, input_dim*15)\n",
    "        self.lin5 = nn.Linear(input_dim*15, input_dim*10)\n",
    "        self.lin6 = nn.Linear(input_dim*10, input_dim*5)\n",
    "        self.lin7 = nn.Linear(input_dim*5, input_dim*2)\n",
    "        self.lin8 = nn.Linear(input_dim*2, input_dim)\n",
    "        self.lin9 = nn.Linear(input_dim, input_dim//2)\n",
    "        self.lin10 = nn.Linear(input_dim//2, 1)\n",
    "\n",
    "\n",
    "    def forward(self, x):\n",
    "        x = F.relu(self.lin1(x))\n",
    "        x = F.relu(self.lin2(x))\n",
    "        x = F.relu(self.lin3(x))\n",
    "        x = F.relu(self.lin4(x))\n",
    "        x = F.relu(self.lin5(x))\n",
    "        x = F.relu(self.lin6(x))\n",
    "        x = F.relu(self.lin7(x))\n",
    "        x = F.relu(self.lin8(x))\n",
    "        x = F.relu(self.lin9(x))\n",
    "        x = F.sigmoid(self.lin10(x))\n",
    "        return x"
   ]
  },
  {
   "cell_type": "markdown",
   "metadata": {},
   "source": [
    "## Initialize the NN, Loss Function, and Optimizer"
   ]
  },
  {
   "cell_type": "code",
   "execution_count": 7,
   "metadata": {},
   "outputs": [],
   "source": [
    "#criterion = nn.CrossEntropyLoss()\n",
    "input_dim = trainset._X.shape[1]\n",
    "\n",
    "net = BinaryNet(input_dim)\n",
    "criterion = nn.BCELoss()\n",
    "optimizer = optim.Adam(net.parameters())"
   ]
  },
  {
   "cell_type": "markdown",
   "metadata": {},
   "source": [
    "## Train the Neural Network"
   ]
  },
  {
   "cell_type": "code",
   "execution_count": 8,
   "metadata": {},
   "outputs": [
    {
     "name": "stdout",
     "output_type": "stream",
     "text": [
      "2\n",
      "Done\n"
     ]
    }
   ],
   "source": [
    "train_discriminant = net(train_X).data.numpy()\n",
    "val_discriminant = net(val_X).data.numpy()\n",
    "val_curve = [(roc_auc_score(train_y, train_discriminant), roc_auc_score(val_y, val_discriminant))]\n",
    "\n",
    "for epoch in range(1, 4):\n",
    "    if epoch%2 == 0: print(epoch)\n",
    "    for batch in trainloader:\n",
    "        inputs, targets = Variable(batch['input']).float(), Variable(batch['target']).float().view(-1, 1)\n",
    "        optimizer.zero_grad()\n",
    "        \n",
    "        outputs = net(inputs)\n",
    "        loss = criterion(outputs, targets)\n",
    "        loss.backward()\n",
    "        optimizer.step()\n",
    "        \n",
    "    #Evaluate the model on the training set\n",
    "    train_discriminant = net(train_X).data.numpy()\n",
    "\n",
    "    # Evaluate the model on a validation set\n",
    "    val_discriminant = net(val_X).data.numpy()\n",
    "    \n",
    "    # Add the ROC AUC to the curve\n",
    "    val_curve.append((roc_auc_score(train_y, train_discriminant), roc_auc_score(val_y, val_discriminant)))\n",
    "    \n",
    "print(\"Done\")"
   ]
  },
  {
   "cell_type": "code",
   "execution_count": 34,
   "metadata": {},
   "outputs": [
    {
     "data": {
      "image/png": "[encoded data removed]",
      "text/plain": [
       "<Figure size 1296x720 with 1 Axes>"
      ]
     },
     "metadata": {},
     "output_type": "display_data"
    }
   ],
   "source": [
    "%matplotlib inline\n",
    "import matplotlib.pyplot as plt\n",
    "\n",
    "fig, ax = plt.subplots()\n",
    "plt.plot(range(1, len(val_curve)+1), val_curve)\n",
    "ax.set_ylabel(\"ROC AUC\")\n",
    "ax.set_xlabel(\"Epochs Finished\")\n",
    "ax.set_title(\"Validation Curves\")\n",
    "handles, _ = ax.get_legend_handles_labels()\n",
    "labels = [\"Training\", \"Validation\"]\n",
    "plt.legend(handles, labels, loc='lower right')\n",
    "fig.set_size_inches(18, 10)\n",
    "fig.savefig(\"hello.png\")"
   ]
  },
  {
   "cell_type": "markdown",
   "metadata": {},
   "source": [
    "## Evaluate the Model's Accuracy"
   ]
  },
  {
   "cell_type": "code",
   "execution_count": null,
   "metadata": {},
   "outputs": [],
   "source": [
    "correct = 0\n",
    "total = 0\n",
    "\n",
    "# For Binary\n",
    "for data in testloader:\n",
    "    images, labels = data['input'].float(), data['target'].long()\n",
    "    outputs = net(Variable(images))\n",
    "    predicted = th.round(outputs.data).long()\n",
    "    total += labels.size(0)\n",
    "    correct += (predicted.view(-1, 1) == labels.view(-1, 1)).sum()\n",
    "    \n",
    "print('Accuracy of the network on the {} samples: {:f} %'.format(len(testset), (\n",
    "    100 * correct / total)))"
   ]
  },
  {
   "cell_type": "markdown",
   "metadata": {},
   "source": [
    "## Save the Model\n",
    "Here we only serialize the model parameters, i.e. the weights and such, to be loaded again later as follows:\n",
    "```python\n",
    "model = BinaryNet(<input_dim>) # Should be the same input dimensions as before.\n",
    "model.load_state_dict(th.load(<Path>))\n",
    "```"
   ]
  },
  {
   "cell_type": "code",
   "execution_count": null,
   "metadata": {},
   "outputs": [],
   "source": [
    "th.save(net.state_dict(), \"neural_net.torch\")"
   ]
  },
  {
   "cell_type": "markdown",
   "metadata": {},
   "source": [
    "# Try Another NN Trained on Just the \"Raw\" Features"
   ]
  },
  {
   "cell_type": "code",
   "execution_count": null,
   "metadata": {},
   "outputs": [],
   "source": [
    "raw_trainset = CollisionDataset(\"ttH_hadT_cut_raw_train.csv\", header=0, target_col=0, index_col=0)\n",
    "raw_valset = CollisionDataset(\"ttH_hadT_cut_raw_val.csv\", header=0, target_col=0, index_col=0, scaler=raw_trainset.scaler)\n",
    "raw_testset = CollisionDataset(\"ttH_hadT_cut_raw_test.csv\", header=0, target_col=0, index_col=0, scaler=raw_trainset.scaler)\n",
    "\n",
    "raw_trainloader = DataLoader(raw_trainset, batch_size=512, shuffle=True, num_workers=5)\n",
    "raw_testloader = DataLoader(raw_testset, batch_size=512, shuffle=True, num_workers=5)"
   ]
  },
  {
   "cell_type": "code",
   "execution_count": null,
   "metadata": {},
   "outputs": [],
   "source": [
    "raw_input_dim = raw_trainset._X.shape[1]\n",
    "\n",
    "raw_net = BinaryNet(raw_input_dim)\n",
    "raw_criterion = nn.BCELoss()\n",
    "raw_optimizer = optim.Adam(raw_net.parameters())"
   ]
  },
  {
   "cell_type": "code",
   "execution_count": null,
   "metadata": {},
   "outputs": [],
   "source": [
    "for epoch in range(1, 4):\n",
    "    if epoch%2 == 0: print(epoch)\n",
    "    for batch in raw_trainloader:\n",
    "        inputs, targets = Variable(batch['input']).float(), Variable(batch['target']).float().view(-1, 1)\n",
    "        raw_optimizer.zero_grad()\n",
    "        \n",
    "        outputs = raw_net(inputs)\n",
    "        loss = raw_criterion(outputs, targets)\n",
    "        loss.backward()\n",
    "        raw_optimizer.step()\n",
    "print(\"Done\")"
   ]
  },
  {
   "cell_type": "code",
   "execution_count": null,
   "metadata": {},
   "outputs": [],
   "source": [
    "th.save(raw_net.state_dict(), \"raw_neural_net.torch\")"
   ]
  },
  {
   "cell_type": "markdown",
   "metadata": {},
   "source": [
    "# Deep Neural Network on the Basic Features"
   ]
  },
  {
   "cell_type": "code",
   "execution_count": null,
   "metadata": {},
   "outputs": [],
   "source": [
    "dnet = DeepBinaryNet(raw_input_dim)"
   ]
  },
  {
   "cell_type": "code",
   "execution_count": null,
   "metadata": {},
   "outputs": [],
   "source": [
    "for epoch in range(1, 8):\n",
    "    if epoch%2 == 0: print(epoch)\n",
    "    for batch in raw_trainloader:\n",
    "        inputs, targets = Variable(batch['input']).float(), Variable(batch['target']).float().view(-1, 1)\n",
    "        raw_optimizer.zero_grad()\n",
    "        \n",
    "        outputs = dnet(inputs)\n",
    "        loss = raw_criterion(outputs, targets)\n",
    "        loss.backward()\n",
    "        raw_optimizer.step()\n",
    "print(\"Done\")"
   ]
  },
  {
   "cell_type": "code",
   "execution_count": null,
   "metadata": {},
   "outputs": [],
   "source": [
    "th.save(dnet.state_dict(), \"deep_basic_neural_net.torch\")"
   ]
  },
  {
   "cell_type": "code",
   "execution_count": null,
   "metadata": {},
   "outputs": [],
   "source": [
    "cut = find_cut(net, trainset, benchmark=\"acc\")\n",
    "score(net, valset, cut=cut)"
   ]
  },
  {
   "cell_type": "code",
   "execution_count": null,
   "metadata": {},
   "outputs": [],
   "source": []
  }
 ],
 "metadata": {
  "kernelspec": {
   "display_name": "Python 2",
   "language": "python",
   "name": "python2"
  },
  "language_info": {
   "codemirror_mode": {
    "name": "ipython",
    "version": 2
   },
   "file_extension": ".py",
   "mimetype": "text/x-python",
   "name": "python",
   "nbconvert_exporter": "python",
   "pygments_lexer": "ipython2",
   "version": "2.7.14"
  }
 },
 "nbformat": 4,
 "nbformat_minor": 2
}
