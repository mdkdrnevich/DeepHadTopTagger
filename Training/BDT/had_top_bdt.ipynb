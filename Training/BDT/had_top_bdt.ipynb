{
 "cells": [
  {
   "cell_type": "markdown",
   "metadata": {},
   "source": [
    "## Training a BDT\n",
    "Now we will train a BDT on the data using engineered variables from Charlie and UCSB. The model will be built using <br>\n",
    "Scikit-Learn's Gradient Boosting classifier to best mimic Charlie's BDT.\n",
    "\n",
    "```python\n",
    "params = {} # BDT Parameters\n",
    "bdt = GradientBoostingClassifier(**params)\n",
    "bdt.fit(X, y)\n",
    "```"
   ]
  },
  {
   "cell_type": "code",
   "execution_count": 19,
   "metadata": {},
   "outputs": [],
   "source": [
    "%matplotlib inline\n",
    "from __future__ import print_function, division\n",
    "import pandas as pd\n",
    "from sklearn.ensemble import GradientBoostingClassifier\n",
    "import pickle"
   ]
  },
  {
   "cell_type": "code",
   "execution_count": 20,
   "metadata": {},
   "outputs": [],
   "source": [
    "best_5 = [\"Top Mass\", \"(b, j2) mass\", \"(b, j3) mass\", \"Top Pt\", \"W ptDR\"]\n",
    "best_10 = []\n",
    "best_15 = []\n",
    "best_20 = []"
   ]
  },
  {
   "cell_type": "code",
   "execution_count": 21,
   "metadata": {},
   "outputs": [],
   "source": [
    "df_train = pd.read_csv(\"ttH_hadT_cut_train.csv\", header=0, index_col=0)\n",
    "df_test = pd.read_csv(\"ttH_hadT_cut_test.csv\", header=0, index_col=0)\n",
    "df_raw_train = pd.read_csv(\"ttH_hadT_cut_raw_train.csv\", header=0, index_col=0)\n",
    "df_raw_test = pd.read_csv(\"ttH_hadT_cut_raw_test.csv\", header=0, index_col=0)"
   ]
  },
  {
   "cell_type": "code",
   "execution_count": 22,
   "metadata": {},
   "outputs": [],
   "source": [
    "train_X = df_train.iloc[:, 1:]\n",
    "train_y = df_train.iloc[:, 0]\n",
    "\n",
    "train5_X = df_train.loc[:, best_5]\n",
    "train5_y = df_train.iloc[:, 0]\n",
    "\n",
    "raw_train_X = df_raw_train.iloc[:, 1:]\n",
    "raw_train_y = df_raw_train.iloc[:, 0]\n",
    "\n",
    "test_X = df_test.iloc[:, 1:]\n",
    "test_y = df_test.iloc[:, 0]\n",
    "\n",
    "test5_X = df_test.loc[:, best_5]\n",
    "test5_y = df_test.iloc[:, 0]\n",
    "\n",
    "raw_test_X = df_raw_test.iloc[:, 1:]\n",
    "raw_test_y = df_raw_test.iloc[:, 0]"
   ]
  },
  {
   "cell_type": "markdown",
   "metadata": {},
   "source": [
    "## Train a BDT on all features"
   ]
  },
  {
   "cell_type": "code",
   "execution_count": 10,
   "metadata": {},
   "outputs": [],
   "source": [
    "params = dict(max_depth=8, learning_rate=0.1, n_estimators=1000, min_samples_leaf=0.045, subsample=0.5, min_samples_split=20)\n",
    "bdt = GradientBoostingClassifier(**params).fit(train_X, train_y)"
   ]
  },
  {
   "cell_type": "code",
   "execution_count": 11,
   "metadata": {},
   "outputs": [
    {
     "data": {
      "text/plain": [
       "81.64574813143422"
      ]
     },
     "execution_count": 11,
     "metadata": {},
     "output_type": "execute_result"
    }
   ],
   "source": [
    "bdt.score(test_X, test_y)*100"
   ]
  },
  {
   "cell_type": "code",
   "execution_count": 12,
   "metadata": {},
   "outputs": [],
   "source": [
    "with open(\"bdt.pkl\", 'wb') as f:\n",
    "    pickle.dump(bdt, f)"
   ]
  },
  {
   "cell_type": "markdown",
   "metadata": {},
   "source": [
    "## Train a BDT on the 5 best engineered features"
   ]
  },
  {
   "cell_type": "code",
   "execution_count": 13,
   "metadata": {},
   "outputs": [],
   "source": [
    "params = dict(max_depth=8, learning_rate=0.1, n_estimators=1000, min_samples_leaf=0.045, subsample=0.5, min_samples_split=20)\n",
    "bdt5 = GradientBoostingClassifier(**params).fit(train5_X, train5_y)"
   ]
  },
  {
   "cell_type": "code",
   "execution_count": 14,
   "metadata": {},
   "outputs": [
    {
     "data": {
      "text/plain": [
       "79.73781319042918"
      ]
     },
     "execution_count": 14,
     "metadata": {},
     "output_type": "execute_result"
    }
   ],
   "source": [
    "bdt5.score(test5_X, test5_y)*100"
   ]
  },
  {
   "cell_type": "code",
   "execution_count": 23,
   "metadata": {},
   "outputs": [],
   "source": [
    "with open(\"bdt_eng5.pkl\", 'wb') as f:\n",
    "    pickle.dump(bdt5, f)"
   ]
  },
  {
   "cell_type": "markdown",
   "metadata": {},
   "source": [
    "## Train a BDT on the basic features"
   ]
  },
  {
   "cell_type": "code",
   "execution_count": 16,
   "metadata": {},
   "outputs": [],
   "source": [
    "params = dict(max_depth=8, learning_rate=0.1, n_estimators=1000, min_samples_leaf=0.045, subsample=0.5, min_samples_split=20)\n",
    "basic_bdt = GradientBoostingClassifier(**params).fit(raw_train_X, raw_train_y)"
   ]
  },
  {
   "cell_type": "code",
   "execution_count": 17,
   "metadata": {},
   "outputs": [
    {
     "data": {
      "text/plain": [
       "70.84097212428901"
      ]
     },
     "execution_count": 17,
     "metadata": {},
     "output_type": "execute_result"
    }
   ],
   "source": [
    "basic_bdt.score(raw_test_X, raw_test_y)*100"
   ]
  },
  {
   "cell_type": "code",
   "execution_count": 24,
   "metadata": {},
   "outputs": [],
   "source": [
    "with open(\"basic_bdt.pkl\", 'wb') as f:\n",
    "    pickle.dump(basic_bdt, f)"
   ]
  },
  {
   "cell_type": "code",
   "execution_count": null,
   "metadata": {},
   "outputs": [],
   "source": []
  }
 ],
 "metadata": {
  "kernelspec": {
   "display_name": "Python 2",
   "language": "python",
   "name": "python2"
  },
  "language_info": {
   "codemirror_mode": {
    "name": "ipython",
    "version": 2
   },
   "file_extension": ".py",
   "mimetype": "text/x-python",
   "name": "python",
   "nbconvert_exporter": "python",
   "pygments_lexer": "ipython2",
   "version": "2.7.14"
  }
 },
 "nbformat": 4,
 "nbformat_minor": 2
}
