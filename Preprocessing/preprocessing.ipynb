{
 "cells": [
  {
   "cell_type": "code",
   "execution_count": 58,
   "metadata": {},
   "outputs": [],
   "source": [
    "%matplotlib inline\n",
    "from __future__ import print_function, division\n",
    "import pandas as pd\n",
    "import numpy as np\n",
    "from matplotlib import pyplot as plt\n",
    "import itertools\n",
    "import pickle\n",
    "from random import sample"
   ]
  },
  {
   "cell_type": "markdown",
   "metadata": {},
   "source": [
    "## Load in the Signal Dataset\n",
    "First I make a header list to name the columns in the dataset. This header will be used for the background as well. Then Pandas is used to read in the data."
   ]
  },
  {
   "cell_type": "code",
   "execution_count": 59,
   "metadata": {},
   "outputs": [],
   "source": [
    "raw_header = list(itertools.chain.from_iterable(\n",
    "    [[n.format(i) for n in \n",
    "      [\"Pt {}\", \"Eta {}\", \"Phi {}\", \"Mass {}\", \"Charge {}\", \"DeepCSVprobb {}\", \"DeepCSVprobbb {}\", \"DeepCSVprobc {}\",\n",
    "       \"DeepCSVprobudsg {}\", \"qgid {}\"]]\n",
    "     for i in range(1, 4)]))\n",
    "\n",
    "header = [\"Class\"] + raw_header + [\"Top Mass\", \"Top Pt\", \"Top ptDR\", \"W Mass\", \"W ptDR\", \"soft drop n2\",\n",
    "                                   \"j2 ptD\", \"j3 ptD\", \"(b, j2) mass\", \"(b, j3) mass\"]"
   ]
  },
  {
   "cell_type": "code",
   "execution_count": 60,
   "metadata": {},
   "outputs": [],
   "source": [
    "signal = pd.read_csv(\"ttH_hadT_signal.csv\", header=None, names=header)"
   ]
  },
  {
   "cell_type": "code",
   "execution_count": 61,
   "metadata": {
    "scrolled": true
   },
   "outputs": [
    {
     "name": "stdout",
     "output_type": "stream",
     "text": [
      "(429697, 41)\n"
     ]
    },
    {
     "data": {
      "text/html": [
       "<div>\n",
       "<style scoped>\n",
       "    .dataframe tbody tr th:only-of-type {\n",
       "        vertical-align: middle;\n",
       "    }\n",
       "\n",
       "    .dataframe tbody tr th {\n",
       "        vertical-align: top;\n",
       "    }\n",
       "\n",
       "    .dataframe thead th {\n",
       "        text-align: right;\n",
       "    }\n",
       "</style>\n",
       "<table border=\"1\" class=\"dataframe\">\n",
       "  <thead>\n",
       "    <tr style=\"text-align: right;\">\n",
       "      <th></th>\n",
       "      <th>Class</th>\n",
       "      <th>Pt 1</th>\n",
       "      <th>Eta 1</th>\n",
       "      <th>Phi 1</th>\n",
       "      <th>Mass 1</th>\n",
       "      <th>Charge 1</th>\n",
       "      <th>DeepCSVprobb 1</th>\n",
       "      <th>DeepCSVprobbb 1</th>\n",
       "      <th>DeepCSVprobc 1</th>\n",
       "      <th>DeepCSVprobudsg 1</th>\n",
       "      <th>...</th>\n",
       "      <th>Top Mass</th>\n",
       "      <th>Top Pt</th>\n",
       "      <th>Top ptDR</th>\n",
       "      <th>W Mass</th>\n",
       "      <th>W ptDR</th>\n",
       "      <th>soft drop n2</th>\n",
       "      <th>j2 ptD</th>\n",
       "      <th>j3 ptD</th>\n",
       "      <th>(b, j2) mass</th>\n",
       "      <th>(b, j3) mass</th>\n",
       "    </tr>\n",
       "  </thead>\n",
       "  <tbody>\n",
       "    <tr>\n",
       "      <th>0</th>\n",
       "      <td>1</td>\n",
       "      <td>54.9391</td>\n",
       "      <td>-0.387515</td>\n",
       "      <td>2.596180</td>\n",
       "      <td>9.09433</td>\n",
       "      <td>-0.492791</td>\n",
       "      <td>0.021769</td>\n",
       "      <td>0.000346</td>\n",
       "      <td>0.072085</td>\n",
       "      <td>0.905799</td>\n",
       "      <td>...</td>\n",
       "      <td>170.650</td>\n",
       "      <td>111.958</td>\n",
       "      <td>0</td>\n",
       "      <td>94.1101</td>\n",
       "      <td>182.136</td>\n",
       "      <td>0.117141</td>\n",
       "      <td>-5.337360</td>\n",
       "      <td>0.634885</td>\n",
       "      <td>77.2379</td>\n",
       "      <td>120.5250</td>\n",
       "    </tr>\n",
       "    <tr>\n",
       "      <th>1</th>\n",
       "      <td>1</td>\n",
       "      <td>79.2143</td>\n",
       "      <td>-0.624282</td>\n",
       "      <td>-0.120407</td>\n",
       "      <td>12.55650</td>\n",
       "      <td>0.040502</td>\n",
       "      <td>0.035599</td>\n",
       "      <td>0.000430</td>\n",
       "      <td>0.109662</td>\n",
       "      <td>0.854310</td>\n",
       "      <td>...</td>\n",
       "      <td>204.182</td>\n",
       "      <td>249.989</td>\n",
       "      <td>0</td>\n",
       "      <td>122.9760</td>\n",
       "      <td>223.844</td>\n",
       "      <td>0.230085</td>\n",
       "      <td>-1.183450</td>\n",
       "      <td>-1.154050</td>\n",
       "      <td>90.3804</td>\n",
       "      <td>138.9080</td>\n",
       "    </tr>\n",
       "    <tr>\n",
       "      <th>2</th>\n",
       "      <td>1</td>\n",
       "      <td>65.6465</td>\n",
       "      <td>-0.220677</td>\n",
       "      <td>-0.866956</td>\n",
       "      <td>12.24890</td>\n",
       "      <td>-0.116391</td>\n",
       "      <td>0.017675</td>\n",
       "      <td>0.000251</td>\n",
       "      <td>0.088817</td>\n",
       "      <td>0.893258</td>\n",
       "      <td>...</td>\n",
       "      <td>148.673</td>\n",
       "      <td>153.252</td>\n",
       "      <td>0</td>\n",
       "      <td>104.7860</td>\n",
       "      <td>170.507</td>\n",
       "      <td>0.085308</td>\n",
       "      <td>11.981500</td>\n",
       "      <td>-0.631879</td>\n",
       "      <td>79.2444</td>\n",
       "      <td>73.2155</td>\n",
       "    </tr>\n",
       "    <tr>\n",
       "      <th>3</th>\n",
       "      <td>1</td>\n",
       "      <td>62.0283</td>\n",
       "      <td>0.625972</td>\n",
       "      <td>-2.616530</td>\n",
       "      <td>9.73203</td>\n",
       "      <td>-0.169099</td>\n",
       "      <td>0.020707</td>\n",
       "      <td>0.000175</td>\n",
       "      <td>0.110877</td>\n",
       "      <td>0.868242</td>\n",
       "      <td>...</td>\n",
       "      <td>165.222</td>\n",
       "      <td>174.999</td>\n",
       "      <td>0</td>\n",
       "      <td>119.5080</td>\n",
       "      <td>221.318</td>\n",
       "      <td>0.072613</td>\n",
       "      <td>-0.643411</td>\n",
       "      <td>0.938953</td>\n",
       "      <td>83.3429</td>\n",
       "      <td>79.7735</td>\n",
       "    </tr>\n",
       "    <tr>\n",
       "      <th>4</th>\n",
       "      <td>1</td>\n",
       "      <td>271.4520</td>\n",
       "      <td>1.438020</td>\n",
       "      <td>-2.290610</td>\n",
       "      <td>39.45580</td>\n",
       "      <td>-0.833393</td>\n",
       "      <td>0.029839</td>\n",
       "      <td>0.001898</td>\n",
       "      <td>0.089722</td>\n",
       "      <td>0.878541</td>\n",
       "      <td>...</td>\n",
       "      <td>148.382</td>\n",
       "      <td>341.491</td>\n",
       "      <td>0</td>\n",
       "      <td>60.8186</td>\n",
       "      <td>107.650</td>\n",
       "      <td>0.162998</td>\n",
       "      <td>1.574420</td>\n",
       "      <td>4.350240</td>\n",
       "      <td>97.6015</td>\n",
       "      <td>102.5260</td>\n",
       "    </tr>\n",
       "  </tbody>\n",
       "</table>\n",
       "<p>5 rows × 41 columns</p>\n",
       "</div>"
      ],
      "text/plain": [
       "   Class      Pt 1     Eta 1     Phi 1    Mass 1  Charge 1  DeepCSVprobb 1  \\\n",
       "0      1   54.9391 -0.387515  2.596180   9.09433 -0.492791        0.021769   \n",
       "1      1   79.2143 -0.624282 -0.120407  12.55650  0.040502        0.035599   \n",
       "2      1   65.6465 -0.220677 -0.866956  12.24890 -0.116391        0.017675   \n",
       "3      1   62.0283  0.625972 -2.616530   9.73203 -0.169099        0.020707   \n",
       "4      1  271.4520  1.438020 -2.290610  39.45580 -0.833393        0.029839   \n",
       "\n",
       "   DeepCSVprobbb 1  DeepCSVprobc 1  DeepCSVprobudsg 1      ...       Top Mass  \\\n",
       "0         0.000346        0.072085           0.905799      ...        170.650   \n",
       "1         0.000430        0.109662           0.854310      ...        204.182   \n",
       "2         0.000251        0.088817           0.893258      ...        148.673   \n",
       "3         0.000175        0.110877           0.868242      ...        165.222   \n",
       "4         0.001898        0.089722           0.878541      ...        148.382   \n",
       "\n",
       "    Top Pt  Top ptDR    W Mass   W ptDR  soft drop n2     j2 ptD    j3 ptD  \\\n",
       "0  111.958         0   94.1101  182.136      0.117141  -5.337360  0.634885   \n",
       "1  249.989         0  122.9760  223.844      0.230085  -1.183450 -1.154050   \n",
       "2  153.252         0  104.7860  170.507      0.085308  11.981500 -0.631879   \n",
       "3  174.999         0  119.5080  221.318      0.072613  -0.643411  0.938953   \n",
       "4  341.491         0   60.8186  107.650      0.162998   1.574420  4.350240   \n",
       "\n",
       "   (b, j2) mass  (b, j3) mass  \n",
       "0       77.2379      120.5250  \n",
       "1       90.3804      138.9080  \n",
       "2       79.2444       73.2155  \n",
       "3       83.3429       79.7735  \n",
       "4       97.6015      102.5260  \n",
       "\n",
       "[5 rows x 41 columns]"
      ]
     },
     "execution_count": 61,
     "metadata": {},
     "output_type": "execute_result"
    }
   ],
   "source": [
    "print(signal.shape)\n",
    "signal.head()"
   ]
  },
  {
   "cell_type": "markdown",
   "metadata": {},
   "source": [
    "### Look at the Invariant Mass Distribution for the Signal"
   ]
  },
  {
   "cell_type": "code",
   "execution_count": 62,
   "metadata": {},
   "outputs": [
    {
     "name": "stdout",
     "output_type": "stream",
     "text": [
      "172.58411729404673\n"
     ]
    },
    {
     "data": {
      "image/png": "[encoded data removed]",
      "text/plain": [
       "<Figure size 432x288 with 1 Axes>"
      ]
     },
     "metadata": {},
     "output_type": "display_data"
    }
   ],
   "source": [
    "smass = signal[\"Top Mass\"]\n",
    "smass.plot.hist()\n",
    "print(smass.mean())"
   ]
  },
  {
   "cell_type": "markdown",
   "metadata": {},
   "source": [
    "## Load in the Background Dataset\n",
    "Use Pandas to load in the background data."
   ]
  },
  {
   "cell_type": "code",
   "execution_count": 66,
   "metadata": {},
   "outputs": [],
   "source": [
    "bkgd = pd.read_csv(\"ttH_hadT_bkgd.csv\", header=None, names=header)"
   ]
  },
  {
   "cell_type": "code",
   "execution_count": 67,
   "metadata": {},
   "outputs": [
    {
     "name": "stdout",
     "output_type": "stream",
     "text": [
      "(384407, 41)\n"
     ]
    },
    {
     "data": {
      "text/html": [
       "<div>\n",
       "<style scoped>\n",
       "    .dataframe tbody tr th:only-of-type {\n",
       "        vertical-align: middle;\n",
       "    }\n",
       "\n",
       "    .dataframe tbody tr th {\n",
       "        vertical-align: top;\n",
       "    }\n",
       "\n",
       "    .dataframe thead th {\n",
       "        text-align: right;\n",
       "    }\n",
       "</style>\n",
       "<table border=\"1\" class=\"dataframe\">\n",
       "  <thead>\n",
       "    <tr style=\"text-align: right;\">\n",
       "      <th></th>\n",
       "      <th>Class</th>\n",
       "      <th>Pt 1</th>\n",
       "      <th>Eta 1</th>\n",
       "      <th>Phi 1</th>\n",
       "      <th>Mass 1</th>\n",
       "      <th>Charge 1</th>\n",
       "      <th>DeepCSVprobb 1</th>\n",
       "      <th>DeepCSVprobbb 1</th>\n",
       "      <th>DeepCSVprobc 1</th>\n",
       "      <th>DeepCSVprobudsg 1</th>\n",
       "      <th>...</th>\n",
       "      <th>Top Mass</th>\n",
       "      <th>Top Pt</th>\n",
       "      <th>Top ptDR</th>\n",
       "      <th>W Mass</th>\n",
       "      <th>W ptDR</th>\n",
       "      <th>soft drop n2</th>\n",
       "      <th>j2 ptD</th>\n",
       "      <th>j3 ptD</th>\n",
       "      <th>(b, j2) mass</th>\n",
       "      <th>(b, j3) mass</th>\n",
       "    </tr>\n",
       "  </thead>\n",
       "  <tbody>\n",
       "    <tr>\n",
       "      <th>0</th>\n",
       "      <td>0</td>\n",
       "      <td>83.1083</td>\n",
       "      <td>-1.157930</td>\n",
       "      <td>-0.477622</td>\n",
       "      <td>7.54454</td>\n",
       "      <td>0.252836</td>\n",
       "      <td>0.027005</td>\n",
       "      <td>0.000177</td>\n",
       "      <td>0.167173</td>\n",
       "      <td>0.805645</td>\n",
       "      <td>...</td>\n",
       "      <td>424.988</td>\n",
       "      <td>88.6775</td>\n",
       "      <td>0.0</td>\n",
       "      <td>287.612</td>\n",
       "      <td>444.904</td>\n",
       "      <td>0.039887</td>\n",
       "      <td>-0.758943</td>\n",
       "      <td>0.634885</td>\n",
       "      <td>275.1180</td>\n",
       "      <td>150.6930</td>\n",
       "    </tr>\n",
       "    <tr>\n",
       "      <th>1</th>\n",
       "      <td>0</td>\n",
       "      <td>54.9391</td>\n",
       "      <td>-0.387515</td>\n",
       "      <td>2.596180</td>\n",
       "      <td>9.09433</td>\n",
       "      <td>-0.492791</td>\n",
       "      <td>0.021769</td>\n",
       "      <td>0.000346</td>\n",
       "      <td>0.072085</td>\n",
       "      <td>0.905799</td>\n",
       "      <td>...</td>\n",
       "      <td>318.512</td>\n",
       "      <td>195.7890</td>\n",
       "      <td>0.0</td>\n",
       "      <td>275.118</td>\n",
       "      <td>417.530</td>\n",
       "      <td>0.034481</td>\n",
       "      <td>-1.737990</td>\n",
       "      <td>-0.758943</td>\n",
       "      <td>146.4740</td>\n",
       "      <td>69.3057</td>\n",
       "    </tr>\n",
       "    <tr>\n",
       "      <th>2</th>\n",
       "      <td>0</td>\n",
       "      <td>83.1083</td>\n",
       "      <td>-1.157930</td>\n",
       "      <td>-0.477622</td>\n",
       "      <td>7.54454</td>\n",
       "      <td>0.252836</td>\n",
       "      <td>0.027005</td>\n",
       "      <td>0.000177</td>\n",
       "      <td>0.167173</td>\n",
       "      <td>0.805645</td>\n",
       "      <td>...</td>\n",
       "      <td>330.529</td>\n",
       "      <td>178.9910</td>\n",
       "      <td>0.0</td>\n",
       "      <td>138.260</td>\n",
       "      <td>344.584</td>\n",
       "      <td>0.082616</td>\n",
       "      <td>-0.758943</td>\n",
       "      <td>-0.795796</td>\n",
       "      <td>275.1180</td>\n",
       "      <td>122.1260</td>\n",
       "    </tr>\n",
       "    <tr>\n",
       "      <th>3</th>\n",
       "      <td>0</td>\n",
       "      <td>83.1083</td>\n",
       "      <td>-1.157930</td>\n",
       "      <td>-0.477622</td>\n",
       "      <td>7.54454</td>\n",
       "      <td>0.252836</td>\n",
       "      <td>0.027005</td>\n",
       "      <td>0.000177</td>\n",
       "      <td>0.167173</td>\n",
       "      <td>0.805645</td>\n",
       "      <td>...</td>\n",
       "      <td>319.975</td>\n",
       "      <td>152.6180</td>\n",
       "      <td>0.0</td>\n",
       "      <td>128.485</td>\n",
       "      <td>333.026</td>\n",
       "      <td>0.076242</td>\n",
       "      <td>-12.122600</td>\n",
       "      <td>-0.758943</td>\n",
       "      <td>103.1710</td>\n",
       "      <td>275.1180</td>\n",
       "    </tr>\n",
       "    <tr>\n",
       "      <th>4</th>\n",
       "      <td>0</td>\n",
       "      <td>83.1083</td>\n",
       "      <td>-1.157930</td>\n",
       "      <td>-0.477622</td>\n",
       "      <td>7.54454</td>\n",
       "      <td>0.252836</td>\n",
       "      <td>0.027005</td>\n",
       "      <td>0.000177</td>\n",
       "      <td>0.167173</td>\n",
       "      <td>0.805645</td>\n",
       "      <td>...</td>\n",
       "      <td>326.202</td>\n",
       "      <td>130.6350</td>\n",
       "      <td>0.0</td>\n",
       "      <td>160.118</td>\n",
       "      <td>444.399</td>\n",
       "      <td>0.029962</td>\n",
       "      <td>-5.337360</td>\n",
       "      <td>-0.758943</td>\n",
       "      <td>74.4996</td>\n",
       "      <td>275.1180</td>\n",
       "    </tr>\n",
       "  </tbody>\n",
       "</table>\n",
       "<p>5 rows × 41 columns</p>\n",
       "</div>"
      ],
      "text/plain": [
       "   Class     Pt 1     Eta 1     Phi 1   Mass 1  Charge 1  DeepCSVprobb 1  \\\n",
       "0      0  83.1083 -1.157930 -0.477622  7.54454  0.252836        0.027005   \n",
       "1      0  54.9391 -0.387515  2.596180  9.09433 -0.492791        0.021769   \n",
       "2      0  83.1083 -1.157930 -0.477622  7.54454  0.252836        0.027005   \n",
       "3      0  83.1083 -1.157930 -0.477622  7.54454  0.252836        0.027005   \n",
       "4      0  83.1083 -1.157930 -0.477622  7.54454  0.252836        0.027005   \n",
       "\n",
       "   DeepCSVprobbb 1  DeepCSVprobc 1  DeepCSVprobudsg 1      ...       Top Mass  \\\n",
       "0         0.000177        0.167173           0.805645      ...        424.988   \n",
       "1         0.000346        0.072085           0.905799      ...        318.512   \n",
       "2         0.000177        0.167173           0.805645      ...        330.529   \n",
       "3         0.000177        0.167173           0.805645      ...        319.975   \n",
       "4         0.000177        0.167173           0.805645      ...        326.202   \n",
       "\n",
       "     Top Pt  Top ptDR   W Mass   W ptDR  soft drop n2     j2 ptD    j3 ptD  \\\n",
       "0   88.6775       0.0  287.612  444.904      0.039887  -0.758943  0.634885   \n",
       "1  195.7890       0.0  275.118  417.530      0.034481  -1.737990 -0.758943   \n",
       "2  178.9910       0.0  138.260  344.584      0.082616  -0.758943 -0.795796   \n",
       "3  152.6180       0.0  128.485  333.026      0.076242 -12.122600 -0.758943   \n",
       "4  130.6350       0.0  160.118  444.399      0.029962  -5.337360 -0.758943   \n",
       "\n",
       "   (b, j2) mass  (b, j3) mass  \n",
       "0      275.1180      150.6930  \n",
       "1      146.4740       69.3057  \n",
       "2      275.1180      122.1260  \n",
       "3      103.1710      275.1180  \n",
       "4       74.4996      275.1180  \n",
       "\n",
       "[5 rows x 41 columns]"
      ]
     },
     "execution_count": 67,
     "metadata": {},
     "output_type": "execute_result"
    }
   ],
   "source": [
    "print(bkgd.shape)\n",
    "bkgd.head()"
   ]
  },
  {
   "cell_type": "markdown",
   "metadata": {},
   "source": [
    "### Look at the Invariant Mass Distribution for the Background"
   ]
  },
  {
   "cell_type": "code",
   "execution_count": 68,
   "metadata": {},
   "outputs": [
    {
     "name": "stdout",
     "output_type": "stream",
     "text": [
      "298.3431002411513\n"
     ]
    },
    {
     "data": {
      "image/png": "[encoded data removed]",
      "text/plain": [
       "<Figure size 432x288 with 1 Axes>"
      ]
     },
     "metadata": {},
     "output_type": "display_data"
    }
   ],
   "source": [
    "bmass = bkgd[\"Top Mass\"]\n",
    "bmass.plot.hist()\n",
    "print(bmass.mean())"
   ]
  },
  {
   "cell_type": "markdown",
   "metadata": {},
   "source": [
    "## Invariant Mass Cut\n",
    "Here we take a first look at the signal compared to the background for the invariant mass, with the background scaled down since it is much larger. There is a clear opportunity to cut high mass events and retain high efficiency on the signal. After playing around a little, these cuts were determined to be $99\\%$ efficient in the range $m_{top} \\in [96, 266]$ GeV. The next plot shows the distribution after making the cuts, unscaled."
   ]
  },
  {
   "cell_type": "code",
   "execution_count": 15,
   "metadata": {},
   "outputs": [
    {
     "data": {
      "image/png": "[encoded data removed]",
      "text/plain": [
       "<Figure size 1296x720 with 1 Axes>"
      ]
     },
     "metadata": {},
     "output_type": "display_data"
    }
   ],
   "source": [
    "fig, ax = plt.subplots()\n",
    "bins = np.linspace(0, 1000, 100)\n",
    "bhist = np.histogram(bmass, bins=bins)\n",
    "shist = np.histogram(smass, bins=bins)\n",
    "plt.bar(bhist[1][:-1], bhist[0]/2.3, width=5.5, alpha=0.5, label=\"Bkgd\", edgecolor=\"black\")\n",
    "plt.bar(shist[1][:-1], shist[0], width=5.5, alpha=0.5, label=\"Signal\", edgecolor=\"black\")\n",
    "ax.set_ylabel(\"Frequency\")\n",
    "ax.set_xlabel(\"Invariant Mass of Jet Triplet\")\n",
    "ax.set_title(\"Histogram of Invariant Mass\")\n",
    "plt.legend(loc='upper right')\n",
    "fig.set_size_inches(18, 10)"
   ]
  },
  {
   "cell_type": "code",
   "execution_count": 16,
   "metadata": {},
   "outputs": [
    {
     "data": {
      "text/plain": [
       "(72.6429, 605.1709999999999)"
      ]
     },
     "execution_count": 16,
     "metadata": {},
     "output_type": "execute_result"
    }
   ],
   "source": [
    "smass.min(), smass.max()"
   ]
  },
  {
   "cell_type": "code",
   "execution_count": 17,
   "metadata": {},
   "outputs": [
    {
     "data": {
      "text/plain": [
       "99.01302545747352"
      ]
     },
     "execution_count": 17,
     "metadata": {},
     "output_type": "execute_result"
    }
   ],
   "source": [
    "# Make cuts at 96 & 266 GeV\n",
    "((smass > 96) & (smass < 266)).sum()*100/smass.count()"
   ]
  },
  {
   "cell_type": "code",
   "execution_count": 18,
   "metadata": {},
   "outputs": [],
   "source": [
    "# Make cuts at 96 & 266 GeV\n",
    "cut_signal = signal[((signal[\"Top Mass\"] > 96) & (signal[\"Top Mass\"] < 266))]\n",
    "cut_bkgd = bkgd[((bkgd[\"Top Mass\"] > 96) & (bkgd[\"Top Mass\"] < 266))]"
   ]
  },
  {
   "cell_type": "code",
   "execution_count": 19,
   "metadata": {},
   "outputs": [
    {
     "data": {
      "image/png": "[encoded data removed]",
      "text/plain": [
       "<Figure size 1296x720 with 1 Axes>"
      ]
     },
     "metadata": {},
     "output_type": "display_data"
    }
   ],
   "source": [
    "fig, ax = plt.subplots()\n",
    "bins = np.linspace(96, 266, 30)\n",
    "bhist = np.histogram(cut_bkgd[\"Top Mass\"], bins=bins)\n",
    "shist = np.histogram(cut_signal[\"Top Mass\"], bins=bins)\n",
    "plt.bar(bhist[1][:-1], bhist[0], width=5.5, alpha=0.5, label=\"Bkgd\", edgecolor=\"black\")\n",
    "plt.bar(shist[1][:-1], shist[0], width=5.5, alpha=0.5, label=\"Signal\", edgecolor=\"black\")\n",
    "ax.set_ylabel(\"Frequency\")\n",
    "ax.set_xlabel(\"Invariant Mass of Jet Triplet\")\n",
    "ax.set_title(\"Histogram of Invariant Mass\")\n",
    "plt.legend(loc='upper right')\n",
    "fig.set_size_inches(18, 10)"
   ]
  },
  {
   "cell_type": "markdown",
   "metadata": {},
   "source": [
    "## Save the Datasets as Training, Validation, and Testing Sets to Facilitate Easy Use in PyTorch and Scikit Learn\n",
    "#### Dataset Fractions:\n",
    "- Training: 65%\n",
    "- Validation: 15%\n",
    "- Testing: 20%"
   ]
  },
  {
   "cell_type": "markdown",
   "metadata": {},
   "source": [
    "#### Even out the signal and background"
   ]
  },
  {
   "cell_type": "code",
   "execution_count": 20,
   "metadata": {},
   "outputs": [],
   "source": [
    "sig_size = cut_signal.shape[0]\n",
    "bkgd_size = cut_bkgd.shape[0]\n",
    "# Assume sig_size < bkgd_size\n",
    "subsample = sample(xrange(bkgd_size), sig_size)\n",
    "cut_bkgd = cut_bkgd.iloc[subsample, :]"
   ]
  },
  {
   "cell_type": "markdown",
   "metadata": {},
   "source": [
    "#### Make the different sets"
   ]
  },
  {
   "cell_type": "code",
   "execution_count": 24,
   "metadata": {},
   "outputs": [],
   "source": [
    "ix_train_cut = int(0.6*sig_size)\n",
    "ix_val_cut = ix_train_cut + int(0.15*sig_size)\n",
    "df_train_X = pd.concat((cut_signal.iloc[:ix_train_cut, 1:], cut_bkgd.iloc[:ix_train_cut, 1:]))\n",
    "df_train_y = pd.concat((cut_signal.iloc[:ix_train_cut, 0], cut_bkgd.iloc[:ix_train_cut, 0]))\n",
    "df_val_X = pd.concat((cut_signal.iloc[ix_train_cut:ix_val_cut, 1:], cut_bkgd.iloc[ix_train_cut:ix_val_cut, 1:]))\n",
    "df_val_y = pd.concat((cut_signal.iloc[ix_train_cut:ix_val_cut, 0], cut_bkgd.iloc[ix_train_cut:ix_val_cut, 0]))\n",
    "df_test_X = pd.concat((cut_signal.iloc[ix_val_cut:, 1:], cut_bkgd.iloc[ix_val_cut:, 1:]))\n",
    "df_test_y = pd.concat((cut_signal.iloc[ix_val_cut:, 0], cut_bkgd.iloc[ix_val_cut:, 0]))"
   ]
  },
  {
   "cell_type": "code",
   "execution_count": 25,
   "metadata": {},
   "outputs": [],
   "source": [
    "pd.concat((df_train_y, df_train_X), axis=1).to_csv(\"ttH_hadT_cut_train.csv\")\n",
    "pd.concat((df_val_y, df_val_X), axis=1).to_csv(\"ttH_hadT_cut_val.csv\")\n",
    "pd.concat((df_test_y, df_test_X), axis=1).to_csv(\"ttH_hadT_cut_test.csv\")"
   ]
  },
  {
   "cell_type": "code",
   "execution_count": 26,
   "metadata": {},
   "outputs": [],
   "source": [
    "pd.concat((df_train_y, df_train_X.loc[:, raw_header]), axis=1).to_csv(\"ttH_hadT_cut_raw_train.csv\")\n",
    "pd.concat((df_val_y, df_val_X.loc[:, raw_header]), axis=1).to_csv(\"ttH_hadT_cut_raw_val.csv\")\n",
    "pd.concat((df_test_y, df_test_X.loc[:, raw_header]), axis=1).to_csv(\"ttH_hadT_cut_raw_test.csv\")"
   ]
  },
  {
   "cell_type": "markdown",
   "metadata": {},
   "source": [
    "## Look for Cuts\n",
    "Now that I have generated all of the engineered variables we need to look at all of the signal vs. background distributions to see if there are any easy cuts that could be made. This also allows us to roughly rank the importance of the variables by looking at their discriminating power."
   ]
  },
  {
   "cell_type": "code",
   "execution_count": 27,
   "metadata": {},
   "outputs": [
    {
     "data": {
      "image/png": "[encoded data removed]",
      "text/plain": [
       "<Figure size 1296x720 with 1 Axes>"
      ]
     },
     "metadata": {},
     "output_type": "display_data"
    }
   ],
   "source": [
    "fig, ax = plt.subplots()\n",
    "bins = np.linspace(0, 500, 50)\n",
    "bhist = np.histogram(cut_bkgd[\"W Mass\"], bins=bins)\n",
    "shist = np.histogram(cut_signal[\"W Mass\"], bins=bins)\n",
    "plt.bar(bhist[1][:-1], bhist[0], width=10, alpha=0.5, label=\"Bkgd\", edgecolor=\"black\")\n",
    "plt.bar(shist[1][:-1], shist[0], width=10, alpha=0.5, label=\"Signal\", edgecolor=\"black\")\n",
    "ax.set_ylabel(\"Frequency\")\n",
    "ax.set_xlabel(\"Invariant Mass of Assumed W\")\n",
    "ax.set_title(\"Histogram of Invariant Mass\")\n",
    "plt.legend(loc='upper right')\n",
    "fig.set_size_inches(18, 10)"
   ]
  },
  {
   "cell_type": "code",
   "execution_count": 28,
   "metadata": {},
   "outputs": [
    {
     "data": {
      "image/png": "[encoded data removed]",
      "text/plain": [
       "<Figure size 1296x720 with 1 Axes>"
      ]
     },
     "metadata": {},
     "output_type": "display_data"
    }
   ],
   "source": [
    "fig, ax = plt.subplots()\n",
    "bins = np.linspace(0, 1000, 100)\n",
    "bhist = np.histogram(cut_bkgd[\"Top Pt\"], bins=bins)\n",
    "shist = np.histogram(cut_signal[\"Top Pt\"], bins=bins)\n",
    "plt.bar(bhist[1][:-1], bhist[0], width=10, alpha=0.5, label=\"Bkgd\", edgecolor=\"black\")\n",
    "plt.bar(shist[1][:-1], shist[0], width=10, alpha=0.5, label=\"Signal\", edgecolor=\"black\")\n",
    "ax.set_ylabel(\"Frequency\")\n",
    "ax.set_xlabel(\"Transverse Momentum of Jet Triplet\")\n",
    "ax.set_title(\"Histogram of Transverse Momentum\")\n",
    "plt.legend(loc='upper right')\n",
    "fig.set_size_inches(18, 10)"
   ]
  },
  {
   "cell_type": "code",
   "execution_count": 29,
   "metadata": {},
   "outputs": [
    {
     "data": {
      "image/png": "[encoded data removed]",
      "text/plain": [
       "<Figure size 1296x720 with 1 Axes>"
      ]
     },
     "metadata": {},
     "output_type": "display_data"
    }
   ],
   "source": [
    "fig, ax = plt.subplots()\n",
    "bins = np.linspace(0, 900, 90)\n",
    "bhist = np.histogram(cut_bkgd[\"W ptDR\"], bins=bins)\n",
    "shist = np.histogram(cut_signal[\"W ptDR\"], bins=bins)\n",
    "plt.bar(bhist[1][:-1], bhist[0]/4, width=10, alpha=0.5, label=\"Bkgd\", edgecolor=\"black\")\n",
    "plt.bar(shist[1][:-1], shist[0], width=10, alpha=0.5, label=\"Signal\", edgecolor=\"black\")\n",
    "ax.set_ylabel(\"Frequency\")\n",
    "ax.set_xlabel(\"W ptDR\")\n",
    "ax.set_title(\"Histogram of the ptDR of the Assumed W\")\n",
    "plt.legend(loc='upper right')\n",
    "fig.set_size_inches(18, 10)"
   ]
  },
  {
   "cell_type": "code",
   "execution_count": null,
   "metadata": {},
   "outputs": [],
   "source": []
  }
 ],
 "metadata": {
  "kernelspec": {
   "display_name": "Python 2",
   "language": "python",
   "name": "python2"
  },
  "language_info": {
   "codemirror_mode": {
    "name": "ipython",
    "version": 2
   },
   "file_extension": ".py",
   "mimetype": "text/x-python",
   "name": "python",
   "nbconvert_exporter": "python",
   "pygments_lexer": "ipython2",
   "version": "2.7.14"
  }
 },
 "nbformat": 4,
 "nbformat_minor": 2
}
